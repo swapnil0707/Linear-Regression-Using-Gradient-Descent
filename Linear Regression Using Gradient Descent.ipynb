{
 "cells": [
  {
   "cell_type": "code",
   "execution_count": 127,
   "metadata": {},
   "outputs": [
    {
     "data": {
      "text/plain": [
       "(39362.0, 46205.0)"
      ]
     },
     "execution_count": 127,
     "metadata": {},
     "output_type": "execute_result"
    }
   ],
   "source": [
    "# To perform simple linear regression using gradient descent\n",
    "\n",
    "import numpy as np\n",
    "import pandas as pd\n",
    "\n",
    "df = pd.read_csv('Salary_Data.csv') # Input your own data here\n",
    "\n",
    "d = df.values\n",
    "\n",
    "x = d[:,0].reshape(-1,1)\n",
    "y = d[:,1].reshape(-1,1)\n",
    "\n",
    "import matplotlib.pyplot as plt\n",
    "%matplotlib inline\n",
    "\n",
    "features = np.random.randn(np.size(x[:,0]),2)\n",
    "\n",
    "features[:, 0] = 1\n",
    "features[:, 1] = x[:, 0]\n",
    "\n",
    "# To calculate the cost function\n",
    "\n",
    "def cost_func(h, features, y):\n",
    "    cost = 0\n",
    "    for i in range(0, np.size(features[:, 1])):\n",
    "        cost = cost + (pred(h, features[i]) - y[i][0])**2\n",
    "    \n",
    "    return ((1/2)*cost)\n",
    "\n",
    "#To calculate the predicted value\n",
    "\n",
    "def pred(h, n):\n",
    "    f = 0\n",
    "    for i in range(0, np.size(h)):\n",
    "        f = f + h[i]*n[i]\n",
    "    return f\n",
    "\n",
    "dt = np.dtype(np.int64)\n",
    "\n",
    "# To perform gradient descent\n",
    "\n",
    "def grad_desc(h, features, y, rate):\n",
    "    h = np.array(h, dtype = dt)\n",
    "    for i in range(0, np.size(features[:, 1])):\n",
    "        for j in range(0, np.size(h)):\n",
    "            h[j] = h[j] + rate*(y[i][0] - pred(h, features[i]))*features[i][j]\n",
    "    \n",
    "    return h\n",
    "\n",
    "# To calculate the difference in the magnitude of the old and new coefficients\n",
    "\n",
    "def mag(h_old, h_new):\n",
    "    mag_old = 0\n",
    "    mag_new = 0\n",
    "    for i in range(0, np.size(h_old)):\n",
    "        mag_old = mag_old + (h_old[i])**2\n",
    "        mag_new = mag_new + (h_new[i])**2\n",
    "    \n",
    "    return mag_old, mag_new\n",
    "\n",
    "h_old = np.array([0,0], dtype = dt)\n",
    "h_new = np.array(grad_desc(h_old, features, y, 0.01), dtype = dt)\n",
    "\n",
    "mag_old, mag_new = mag(h_old, h_new)\n",
    "\n",
    "# To continue the process of gradient descent until convergence\n",
    "\n",
    "while(abs(mag_old - mag_new) >0.001):\n",
    "    h_old = h_new\n",
    "    h_new = grad_desc(h_new, features, y, 0.01)\n",
    "    mag_old, mag_new = mag(h_old, h_new)\n",
    "\n",
    "h_new\n",
    "\n",
    "pred(h_new, features[1]), y[1][0]"
   ]
  },
  {
   "cell_type": "code",
   "execution_count": 125,
   "metadata": {},
   "outputs": [
    {
     "name": "stderr",
     "output_type": "stream",
     "text": [
      "C:\\Users\\User\\Anaconda3\\lib\\site-packages\\ipykernel_launcher.py:57: RuntimeWarning: overflow encountered in double_scalars\n",
      "C:\\Users\\User\\Anaconda3\\lib\\site-packages\\ipykernel_launcher.py:56: RuntimeWarning: overflow encountered in double_scalars\n",
      "C:\\Users\\User\\Anaconda3\\lib\\site-packages\\ipykernel_launcher.py:68: RuntimeWarning: invalid value encountered in double_scalars\n"
     ]
    },
    {
     "data": {
      "text/plain": [
       "(-6.296779780619428e+297, 46205.0)"
      ]
     },
     "execution_count": 125,
     "metadata": {},
     "output_type": "execute_result"
    }
   ],
   "source": [
    "# To perform simple linear regression using gradient descent\n",
    "\n",
    "import numpy as np\n",
    "import pandas as pd\n",
    "\n",
    "df = pd.read_csv('Salary_Data.csv')\n",
    "\n",
    "d = df.values\n",
    "\n",
    "x = d[:,0].reshape(-1,1)\n",
    "y = d[:,1].reshape(-1,1)\n",
    "\n",
    "import matplotlib.pyplot as plt\n",
    "%matplotlib inline\n",
    "\n",
    "features = np.random.randn(np.size(x[:,0]),2)\n",
    "\n",
    "features[:, 0] = 1\n",
    "features[:, 1] = x[:, 0]\n",
    "\n",
    "# To calculate the cost function\n",
    "\n",
    "def cost_func(h, features, y):\n",
    "    cost = 0\n",
    "    for i in range(0, np.size(features[:, 1])):\n",
    "        cost = cost + (pred(h, features[i]) - y[i][0])**2\n",
    "    \n",
    "    return ((1/2)*cost)\n",
    "\n",
    "#To calculate the predicted value\n",
    "\n",
    "def pred(h, n):\n",
    "    f = 0\n",
    "    for i in range(0, np.size(h)):\n",
    "        f = f + h[i]*n[i]\n",
    "    return f\n",
    "\n",
    "dt = np.dtype(np.float64)\n",
    "\n",
    "# To perform gradient descent\n",
    "\n",
    "def grad_desc(h, features, y, rate):\n",
    "    h = np.array(h, dtype = dt)\n",
    "    for i in range(0, np.size(features[:, 1])):\n",
    "        for j in range(0, np.size(h)):\n",
    "            h[j] = h[j] + rate*(y[i][0] - pred(h, features[i]))*features[i][j]\n",
    "    \n",
    "    return h\n",
    "\n",
    "# To calculate the difference in the magnitude of the old and new coefficients\n",
    "\n",
    "def mag(h_old, h_new):\n",
    "    mag_old = 0\n",
    "    mag_new = 0\n",
    "    for i in range(0, np.size(h_old)):\n",
    "        mag_old = mag_old + (h_old[i])**2\n",
    "        mag_new = mag_new + (h_new[i])**2\n",
    "    \n",
    "    return mag_old, mag_new\n",
    "\n",
    "h_old = np.array([0,0], dtype = dt)\n",
    "h_new = np.array(grad_desc(h_old, features, y, 10), dtype = dt)\n",
    "\n",
    "mag_old, mag_new = mag(h_old, h_new)\n",
    "\n",
    "# To continue the process of gradient descent until convergence\n",
    "\n",
    "while(abs(mag_old - mag_new) >0.5):\n",
    "    h_old = h_new\n",
    "    h_new = grad_desc(h_new, features, y, 10)\n",
    "    mag_old, mag_new = mag(h_old, h_new)\n",
    "\n",
    "h_new\n",
    "\n",
    "pred(h_new, features[1]), y[1][0]"
   ]
  },
  {
   "cell_type": "code",
   "execution_count": 96,
   "metadata": {},
   "outputs": [],
   "source": [
    "h = np.array([0,0])\n",
    "\n",
    "h_test = np.zeros((50, np.size(h)))\n",
    "\n",
    "for i in range(0, np.size(h)):\n",
    "    h_test[:, i] = np.linspace(-50, 50, 50)"
   ]
  },
  {
   "cell_type": "code",
   "execution_count": 87,
   "metadata": {},
   "outputs": [
    {
     "data": {
      "text/plain": [
       "97513407543.79999"
      ]
     },
     "execution_count": 87,
     "metadata": {},
     "output_type": "execute_result"
    }
   ],
   "source": [
    "cost_func(np.array([1,2]), features, y)"
   ]
  },
  {
   "cell_type": "code",
   "execution_count": 88,
   "metadata": {},
   "outputs": [],
   "source": [
    "cost_arr = np.zeros((50,1))"
   ]
  },
  {
   "cell_type": "code",
   "execution_count": 90,
   "metadata": {},
   "outputs": [],
   "source": [
    "for i in range(0,50):\n",
    "    cost_arr[i][0] = cost_func(h_test[i], features, y)"
   ]
  },
  {
   "cell_type": "code",
   "execution_count": 92,
   "metadata": {},
   "outputs": [
    {
     "data": {
      "text/plain": [
       "array([9.83762182e+10, 9.83421936e+10, 9.83081750e+10, 9.82741623e+10,\n",
       "       9.82401555e+10, 9.82061547e+10, 9.81721599e+10, 9.81381710e+10,\n",
       "       9.81041881e+10, 9.80702111e+10, 9.80362400e+10, 9.80022750e+10,\n",
       "       9.79683158e+10, 9.79343627e+10, 9.79004155e+10, 9.78664742e+10,\n",
       "       9.78325389e+10, 9.77986095e+10, 9.77646861e+10, 9.77307687e+10,\n",
       "       9.76968571e+10, 9.76629516e+10, 9.76290520e+10, 9.75951584e+10,\n",
       "       9.75612707e+10, 9.75273889e+10, 9.74935132e+10, 9.74596433e+10,\n",
       "       9.74257794e+10, 9.73919215e+10, 9.73580695e+10, 9.73242235e+10,\n",
       "       9.72903835e+10, 9.72565493e+10, 9.72227212e+10, 9.71888990e+10,\n",
       "       9.71550827e+10, 9.71212724e+10, 9.70874681e+10, 9.70536697e+10,\n",
       "       9.70198772e+10, 9.69860907e+10, 9.69523102e+10, 9.69185356e+10,\n",
       "       9.68847670e+10, 9.68510043e+10, 9.68172476e+10, 9.67834968e+10,\n",
       "       9.67497520e+10, 9.67160131e+10])"
      ]
     },
     "execution_count": 92,
     "metadata": {},
     "output_type": "execute_result"
    }
   ],
   "source": [
    "cost_arr[:,0]"
   ]
  },
  {
   "cell_type": "code",
   "execution_count": null,
   "metadata": {},
   "outputs": [],
   "source": []
  }
 ],
 "metadata": {
  "kernelspec": {
   "display_name": "Python 3",
   "language": "python",
   "name": "python3"
  },
  "language_info": {
   "codemirror_mode": {
    "name": "ipython",
    "version": 3
   },
   "file_extension": ".py",
   "mimetype": "text/x-python",
   "name": "python",
   "nbconvert_exporter": "python",
   "pygments_lexer": "ipython3",
   "version": "3.7.3"
  }
 },
 "nbformat": 4,
 "nbformat_minor": 2
}
